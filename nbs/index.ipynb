{
 "cells": [
  {
   "cell_type": "code",
   "execution_count": null,
   "metadata": {},
   "outputs": [],
   "source": [
    "#| hide\n",
    "from drug_search_ai.core import *"
   ]
  },
  {
   "cell_type": "markdown",
   "metadata": {},
   "source": [
    "# drug_search_ai\n",
    "\n",
    "> Semantic Search Engine on Drugs dataset to help doctors find relative drugs using OCR,DL and Vector databses"
   ]
  },
  {
   "cell_type": "markdown",
   "metadata": {},
   "source": [
    "This file will become your README and also the index of your documentation."
   ]
  },
  {
   "cell_type": "markdown",
   "metadata": {},
   "source": [
    "## Install"
   ]
  },
  {
   "cell_type": "markdown",
   "metadata": {},
   "source": [
    "```sh\n",
    "pip install drug_search_ai\n",
    "```"
   ]
  },
  {
   "cell_type": "markdown",
   "metadata": {},
   "source": [
    "## How to use\n",
    "1+1\n"
   ]
  },
  {
   "cell_type": "markdown",
   "metadata": {},
   "source": [
    "\n",
    "## RoadMap \n",
    "\n",
    "1. [ ] Vectorize more column than the drug name \n",
    "2. [ ] Build an OCR pipeline \n",
    "3. [ ] Build a Translation pipeline to convert from English to other languages \n",
    "4. [ ] Build a streamlit version \n",
    "5. [ ] Build A fastapi backend with mongodb \n",
    "\n",
    "## References \n",
    "- [qdrant_documentation](https://qdrant.tech/documentation/)\n",
    "\n",
    "- [sentence_transformers](https://www.sbert.net/)"
   ]
  },
  {
   "cell_type": "code",
   "execution_count": null,
   "metadata": {},
   "outputs": [],
   "source": []
  }
 ],
 "metadata": {
  "kernelspec": {
   "display_name": "python3",
   "language": "python",
   "name": "python3"
  }
 },
 "nbformat": 4,
 "nbformat_minor": 4
}
